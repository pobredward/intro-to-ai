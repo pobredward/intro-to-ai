{
 "cells": [
  {
   "cell_type": "markdown",
   "metadata": {},
   "source": [
    "<a id='top'><img src='src/top.webp' style='float:center; width:1000px;'></a>"
   ]
  },
  {
   "cell_type": "markdown",
   "metadata": {},
   "source": [
    "# <center>[Intro to AI] HW4</center>\n",
    "## <div class=\"pull-right\">2017025769 신선웅</div>"
   ]
  },
  {
   "cell_type": "markdown",
   "metadata": {},
   "source": [
    "<div class=\"list-group\" id=\"list-tab\" role=\"tablist\">\n",
    "  <h3 class=\"list-group-item list-group-item-action active\" data-toggle=\"list\"  role=\"tab\" aria-controls=\"home\">Assignment</h3>\n",
    "  <a class=\"list-group-item list-group-item-action\" data-toggle=\"list\" href=\"#0\" role=\"tab\" aria-controls=\"profile\">Setting<span class=\"badge badge-primary badge-pill\">0</span></a>\n",
    "  <a class=\"list-group-item list-group-item-action\" data-toggle=\"list\" href=\"#1\" role=\"tab\" aria-controls=\"profile\">Data Preprocessing<span class=\"badge badge-primary badge-pill\">1</span></a>\n",
    "  <a class=\"list-group-item list-group-item-action\" data-toggle=\"list\" href=\"#2\" role=\"tab\" aria-controls=\"messages\">Perceptron Learning<span class=\"badge badge-primary badge-pill\">2</span></a>\n",
    "  <a class=\"list-group-item list-group-item-action\"  data-toggle=\"list\" href=\"#3\" role=\"tab\" aria-controls=\"settings\">Train and test the model<span class=\"badge badge-primary badge-pill\">3</span></a>\n",
    "  <a class=\"list-group-item list-group-item-action\" data-toggle=\"list\" href=\"#4\" role=\"tab\" aria-controls=\"settings\">Visualize misclassified test images<span class=\"badge badge-primary badge-pill\">4</span></a> "
   ]
  },
  {
   "cell_type": "markdown",
   "metadata": {},
   "source": [
    "# <a id='0'>0. Setting</a>"
   ]
  },
  {
   "cell_type": "markdown",
   "metadata": {},
   "source": [
    "### 📚Libraries for Mathematics (Linear algebra)"
   ]
  },
  {
   "cell_type": "code",
   "execution_count": 2,
   "metadata": {},
   "outputs": [],
   "source": [
    "import numpy as np"
   ]
  },
  {
   "cell_type": "markdown",
   "metadata": {},
   "source": [
    "### 📚Libraries for Loading MNIST Datasets"
   ]
  },
  {
   "cell_type": "code",
   "execution_count": 3,
   "metadata": {},
   "outputs": [
    {
     "data": {
      "text/plain": [
       "((60000, 784), (60000,))"
      ]
     },
     "execution_count": 3,
     "metadata": {},
     "output_type": "execute_result"
    }
   ],
   "source": [
    "from sklearn.datasets import fetch_openml\n",
    "mnist = fetch_openml('mnist_784')\n",
    "from sklearn.model_selection import train_test_split\n",
    "train_dataset, test_dataset, train_target, test_target = train_test_split(mnist.data, mnist.target, \n",
    "                                                                          test_size=10000, random_state=42)\n",
    "train_dataset.shape, train_target.shape"
   ]
  },
  {
   "cell_type": "markdown",
   "metadata": {},
   "source": [
    "### 📚Libraries for Visualization"
   ]
  },
  {
   "cell_type": "code",
   "execution_count": 4,
   "metadata": {},
   "outputs": [],
   "source": [
    "import matplotlib.pyplot as plt"
   ]
  },
  {
   "cell_type": "markdown",
   "metadata": {},
   "source": [
    "# <a id='1'>1. Data preprocessing</a>"
   ]
  },
  {
   "cell_type": "markdown",
   "metadata": {},
   "source": [
    "> **We'll create new datasets composed of digits 0 and 1 only.**"
   ]
  },
  {
   "cell_type": "markdown",
   "metadata": {},
   "source": [
    "### 1.1 Create $X_{train, 01}$(training data of 0 and 1 only), $y_{train, 01}$(class labels of $X_{train, 01}$),<br>&nbsp;&nbsp;&nbsp;&nbsp; $X_{test, 01}$(test data of 0 and 1 only), $y_{test, 01}$(class labels of $X_{test, 01}$)."
   ]
  },
  {
   "cell_type": "code",
   "execution_count": 5,
   "metadata": {},
   "outputs": [],
   "source": [
    "X_train01 = train_dataset[(train_target=='0') | (train_target=='1')] # delete label except 0, 1"
   ]
  },
  {
   "cell_type": "code",
   "execution_count": 6,
   "metadata": {},
   "outputs": [],
   "source": [
    "y_train01 = train_target[(train_target=='0') | (train_target=='1')] # delete label except 0, 1\n",
    "y_train01 = np.where(y_train01=='0', '-1', y_train01) # change label name from 0 to -1\n",
    "y_train01 = y_train01.astype('int8') # convert label type from str to int"
   ]
  },
  {
   "cell_type": "code",
   "execution_count": 7,
   "metadata": {},
   "outputs": [],
   "source": [
    "X_test01 = test_dataset[(test_target=='0') | (test_target=='1')] # delete label except 0, 1"
   ]
  },
  {
   "cell_type": "code",
   "execution_count": 8,
   "metadata": {},
   "outputs": [],
   "source": [
    "y_test01 = test_target[(test_target=='0') | (test_target=='1')] # delete label except 0, 1\n",
    "y_test01 = np.where(y_test01=='0', '-1', y_test01) ## change label name from 0 to -1\n",
    "y_test01 = y_test01.astype('int8') # convert label type from str to int"
   ]
  },
  {
   "cell_type": "markdown",
   "metadata": {},
   "source": [
    "### 1.2 Append ones as a feature to the vetorized images"
   ]
  },
  {
   "cell_type": "code",
   "execution_count": 9,
   "metadata": {},
   "outputs": [],
   "source": [
    "X_train01 = np.hstack((np.ones((X_train01.shape[0] , 1)), X_train01)) # add one feature\n",
    "X_test01 = np.hstack((np.ones((X_test01.shape[0] , 1)), X_test01)) # add one feature"
   ]
  },
  {
   "cell_type": "code",
   "execution_count": 10,
   "metadata": {},
   "outputs": [
    {
     "name": "stdout",
     "output_type": "stream",
     "text": [
      "X_train01.shape: (12645, 785)\n",
      "y_train01.shape: (12645,)\n",
      "X_test01.shape: (2135, 785)\n",
      "y_test01.shape: (2135,)\n"
     ]
    }
   ],
   "source": [
    "print('X_train01.shape:', X_train01.shape) \n",
    "print('y_train01.shape:', y_train01.shape)\n",
    "print('X_test01.shape:', X_test01.shape)\n",
    "print('y_test01.shape:', y_test01.shape)"
   ]
  },
  {
   "cell_type": "markdown",
   "metadata": {},
   "source": [
    "# <a id='2'>2. Perceptron learning</a>"
   ]
  },
  {
   "cell_type": "markdown",
   "metadata": {},
   "source": [
    ">**Perceptron learning Implement the perceptron learning algorithm summarized in slide 08.<br>If you want to code up the learning rule as a function, see below for your information:**"
   ]
  },
  {
   "cell_type": "code",
   "execution_count": 11,
   "metadata": {},
   "outputs": [],
   "source": [
    "# define training function\n",
    "def train_perceptron(X, y, w, learning_rate):\n",
    "    nb_changes = 0\n",
    "    for i in range(X.shape[0]):\n",
    "        if X[i].dot(w) * y[i] <= 0:\n",
    "            w = w + learning_rate * y[i] * X[i] # update w\n",
    "            nb_changes += 1\n",
    "    return w, nb_changes"
   ]
  },
  {
   "cell_type": "code",
   "execution_count": 12,
   "metadata": {},
   "outputs": [],
   "source": [
    "# define error function\n",
    "def error(X, y, w):\n",
    "    nb_changes = 0\n",
    "    for i in range(X.shape[0]):\n",
    "        if X[i].dot(w) * y[i] <= 0:\n",
    "            nb_changes += 1\n",
    "    return nb_changes / len(X) * 100"
   ]
  },
  {
   "cell_type": "markdown",
   "metadata": {},
   "source": [
    "# <a id='3'>3. Train and test the model</a>"
   ]
  },
  {
   "cell_type": "code",
   "execution_count": 13,
   "metadata": {},
   "outputs": [
    {
     "name": "stdout",
     "output_type": "stream",
     "text": [
      "epoch 0 nb_changes 47 train_error 0.32% test_error 0.19%\n",
      "epoch 1 nb_changes 29 train_error 0.14% test_error 0.09%\n",
      "epoch 2 nb_changes 27 train_error 0.08% test_error 0.14%\n",
      "epoch 3 nb_changes 18 train_error 0.15% test_error 0.19%\n",
      "epoch 4 nb_changes 21 train_error 0.25% test_error 0.23%\n",
      "epoch 5 nb_changes 8 train_error 0.02% test_error 0.14%\n",
      "epoch 6 nb_changes 8 train_error 0.02% test_error 0.19%\n",
      "epoch 7 nb_changes 4 train_error 0.02% test_error 0.19%\n",
      "epoch 8 nb_changes 3 train_error 0.04% test_error 0.28%\n",
      "epoch 9 nb_changes 3 train_error 0.01% test_error 0.28%\n",
      "epoch 10 nb_changes 7 train_error 0.03% test_error 0.23%\n",
      "epoch 11 nb_changes 4 train_error 0.00% test_error 0.19%\n",
      "epoch 12 nb_changes 0 train_error 0.00% test_error 0.19%\n"
     ]
    }
   ],
   "source": [
    "learning_rate = 1e-3 # learning rate initialization\n",
    "nb_epochs_max = 100 # epoch initialization\n",
    "w = np.random.randn(X_train01.shape[1]) # weight initialization\n",
    "for j in range(nb_epochs_max):\n",
    "    w, nb_changes = train_perceptron(X_train01, y_train01, w, 1e-3) # training\n",
    "    train_error = error(X_train01, y_train01, w) # get train error\n",
    "    test_error = error(X_test01, y_test01, w) # get test error\n",
    "    print('epoch {} nb_changes {} train_error {:.2f}% test_error {:.2f}%'\n",
    "          .format(j, nb_changes, train_error, test_error))\n",
    "    if nb_changes == 0: # finish training when there's no need to train\n",
    "        break"
   ]
  },
  {
   "cell_type": "markdown",
   "metadata": {
    "colab_type": "text",
    "id": "49Ziv3ZMbdFt"
   },
   "source": [
    "# <a id='4'>4. Visualize misclassified test images</a>"
   ]
  },
  {
   "cell_type": "markdown",
   "metadata": {},
   "source": [
    "### 4.1 Make list of misclassified test images"
   ]
  },
  {
   "cell_type": "code",
   "execution_count": 14,
   "metadata": {},
   "outputs": [
    {
     "name": "stdout",
     "output_type": "stream",
     "text": [
      "The number of misclassified test image: 4\n"
     ]
    }
   ],
   "source": [
    "nb_changes = 0\n",
    "X_test01_wrong = []\n",
    "y_test01_wrong = []\n",
    "for i in range(X_test01.shape[0]):\n",
    "    if X_test01[i].dot(w) * y_test01[i] <= 0:\n",
    "        X_test01_wrong.append(X_test01[i])\n",
    "        y_test01_wrong.append(y_test01[i])\n",
    "        nb_changes += 1\n",
    "print('The number of misclassified test image:', nb_changes)"
   ]
  },
  {
   "cell_type": "markdown",
   "metadata": {},
   "source": [
    "### 4.2 Convert to original array type"
   ]
  },
  {
   "cell_type": "code",
   "execution_count": 15,
   "metadata": {},
   "outputs": [],
   "source": [
    "X_test01_wrong = np.delete(np.array(X_test01_wrong), 0, axis=1) # Delete one feature\n",
    "y_test01_wrong = np.where(np.array(y_test01_wrong)==-1, 0, y_test01_wrong) # Convert class label from -1 to 0"
   ]
  },
  {
   "cell_type": "markdown",
   "metadata": {},
   "source": [
    "### 4.3 Visualize image"
   ]
  },
  {
   "cell_type": "code",
   "execution_count": 16,
   "metadata": {
    "scrolled": true
   },
   "outputs": [
    {
     "data": {
      "image/png": "[encoded data removed]",
      "text/plain": [
       "<Figure size 864x576 with 4 Axes>"
      ]
     },
     "metadata": {
      "needs_background": "light"
     },
     "output_type": "display_data"
    }
   ],
   "source": [
    "# 가중치 초기화 단계에서 random seed를 고정하지 않아 misclassified된 이미지 개수가 달라질 수 있으므로\n",
    "# 달라진 개수만큼 시각화하도록 코드를 작성하였습니다\n",
    "\n",
    "fig = plt.figure(figsize=(nb_changes*3, nb_changes*2))\n",
    "\n",
    "for i in range(nb_changes):\n",
    "    plt.subplot(1, nb_changes, i+1)\n",
    "    plt.imshow(X_test01_wrong[i].reshape(-1, 28), cmap='gray_r')\n",
    "    plt.title('class label: %d'%(y_test01_wrong[i]))"
   ]
  },
  {
   "cell_type": "markdown",
   "metadata": {},
   "source": [
    "<center><a href=\"#top\" class=\"btn btn-success btn-lg active\" role=\"button\" aria-pressed=\"true\" style=\"color:white\" data-toggle=\"popover\" title=\"go to Colors\">Move to TOP</a><center>"
   ]
  }
 ],
 "metadata": {
  "colab": {
   "collapsed_sections": [],
   "name": "HW2_solution.ipynb",
   "provenance": [],
   "version": "0.3.2"
  },
  "kernelspec": {
   "display_name": "Python 3",
   "language": "python",
   "name": "python3"
  },
  "language_info": {
   "codemirror_mode": {
    "name": "ipython",
    "version": 3
   },
   "file_extension": ".py",
   "mimetype": "text/x-python",
   "name": "python",
   "nbconvert_exporter": "python",
   "pygments_lexer": "ipython3",
   "version": "3.8.5"
  }
 },
 "nbformat": 4,
 "nbformat_minor": 1
}
