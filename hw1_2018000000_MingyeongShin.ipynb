{
 "cells": [
  {
   "cell_type": "markdown",
   "metadata": {},
   "source": [
    "# [HW1]"
   ]
  },
  {
   "cell_type": "markdown",
   "metadata": {},
   "source": [
    "#### Problem : Assuming that the (unknown) true model , we'll be fitting a polynomial model to sampled data with changing the degree of a polynomial function. $h(x) = w_0 + w_1x^1 + w_2x^2 + ... + w_dx^d.$ for understanding the concept of over-fitting as well as model selction."
   ]
  },
  {
   "cell_type": "markdown",
   "metadata": {},
   "source": [
    "# ** CONTENTS**\n",
    "\n",
    "1. [Training Data](#1)\n",
    "2. [Validation Data](#2)\n",
    "3. [Plot f(x) and Training Data](#3)\n",
    "4. [Polynomial Degree](#4)\n",
    "5. [Plot MSE](#5)\n"
   ]
  },
  {
   "cell_type": "code",
   "execution_count": 8,
   "metadata": {},
   "outputs": [],
   "source": [
    "import numpy as np\n",
    "import pandas as pd\n",
    "import matplotlib.pyplot as plt\n",
    "from sklearn.linear_model import LinearRegression\n",
    "from sklearn.preprocessing import PolynomialFeatures\n",
    "from sklearn.metrics import mean_squared_error\n",
    "np.random.seed(24)"
   ]
  },
  {
   "cell_type": "markdown",
   "metadata": {},
   "source": [
    "<a id='1'></a>\n",
    "# **1. Training data**"
   ]
  },
  {
   "cell_type": "markdown",
   "metadata": {},
   "source": [
    "**Make a training data $x_{train}$**, which is evenly spaced 21 numbers over $[-\\pi, \\pi]$, and $y_{train} = f(x_{train}) + \\epsilon$ where $\\epsilon$ ~ $N(0, 0.5^2)$ is i.i.d. samples from Gaussian distribution."
   ]
  },
  {
   "cell_type": "code",
   "execution_count": 9,
   "metadata": {},
   "outputs": [
    {
     "data": {
      "text/plain": [
       "array([-3.14159265, -2.82743339, -2.51327412, -2.19911486, -1.88495559,\n",
       "       -1.57079633, -1.25663706, -0.9424778 , -0.62831853, -0.31415927,\n",
       "        0.        ,  0.31415927,  0.62831853,  0.9424778 ,  1.25663706,\n",
       "        1.57079633,  1.88495559,  2.19911486,  2.51327412,  2.82743339,\n",
       "        3.14159265])"
      ]
     },
     "execution_count": 9,
     "metadata": {},
     "output_type": "execute_result"
    }
   ],
   "source": [
    "x_train = np.linspace(-np.pi, np.pi, 21)\n",
    "x_train"
   ]
  },
  {
   "cell_type": "code",
   "execution_count": 10,
   "metadata": {},
   "outputs": [
    {
     "data": {
      "text/plain": [
       "array([ 0.66460609, -0.38501673, -0.15814018, -0.49540519, -0.53540813,\n",
       "       -0.71935664,  0.28220843,  0.14786094, -0.81320212,  0.1097826 ,\n",
       "        0.3394024 ,  0.94463637,  0.4807692 ,  0.0520056 , -0.24058266,\n",
       "        0.42511427,  0.72671233,  0.52886872,  0.0827808 ,  0.25750919,\n",
       "       -0.66846784])"
      ]
     },
     "execution_count": 10,
     "metadata": {},
     "output_type": "execute_result"
    }
   ],
   "source": [
    "noise_21 = np.random.normal(0, 0.5, 21)\n",
    "noise_21"
   ]
  },
  {
   "cell_type": "code",
   "execution_count": 11,
   "metadata": {},
   "outputs": [
    {
     "data": {
      "text/plain": [
       "array([ 0.66460609, -0.69403372, -0.74592543, -1.30442219, -1.48646464,\n",
       "       -1.71935664, -0.66884809, -0.66115605, -1.40098737, -0.1992344 ,\n",
       "        0.3394024 ,  1.25365336,  1.06855445,  0.86102259,  0.71047386,\n",
       "        1.42511427,  1.67776885,  1.33788571,  0.67056606,  0.56652618,\n",
       "       -0.66846784])"
      ]
     },
     "execution_count": 11,
     "metadata": {},
     "output_type": "execute_result"
    }
   ],
   "source": [
    "y_train = np.sin(x_train) + noise_21\n",
    "y_train"
   ]
  },
  {
   "cell_type": "markdown",
   "metadata": {},
   "source": [
    "<a id='2'></a>\n",
    "# **2. Validation data**"
   ]
  },
  {
   "cell_type": "markdown",
   "metadata": {},
   "source": [
    "**Make a validation data $x_{val}$**, which is evenly spaced 10 numbers over $[-\\pi, \\pi]$, and $y_{val} = f(x_{val}) + \\epsilon$ where $\\epsilon$ ~ $N(0, 0.5^2)$ is i.i.d. samples from Gaussian distribution."
   ]
  },
  {
   "cell_type": "code",
   "execution_count": 12,
   "metadata": {},
   "outputs": [
    {
     "data": {
      "text/plain": [
       "array([-3.14159265, -2.44346095, -1.74532925, -1.04719755, -0.34906585,\n",
       "        0.34906585,  1.04719755,  1.74532925,  2.44346095,  3.14159265])"
      ]
     },
     "execution_count": 12,
     "metadata": {},
     "output_type": "execute_result"
    }
   ],
   "source": [
    "x_val = np.linspace(-np.pi, np.pi, 10)\n",
    "x_val"
   ]
  },
  {
   "cell_type": "code",
   "execution_count": 13,
   "metadata": {},
   "outputs": [
    {
     "data": {
      "text/plain": [
       "array([ 0.28143057,  0.69642741, -0.03166399,  0.06083418,  0.60380127,\n",
       "       -0.00102011,  0.81389787,  0.17724639,  0.51876382, -0.19284176])"
      ]
     },
     "execution_count": 13,
     "metadata": {},
     "output_type": "execute_result"
    }
   ],
   "source": [
    "noise_10 = np.random.normal(0, 0.5, 10)\n",
    "noise_10"
   ]
  },
  {
   "cell_type": "code",
   "execution_count": 14,
   "metadata": {},
   "outputs": [
    {
     "data": {
      "text/plain": [
       "array([ 0.28143057,  0.0536398 , -1.01647174, -0.80519122,  0.26178113,\n",
       "        0.34100004,  1.67992328,  1.16205415,  1.16155143, -0.19284176])"
      ]
     },
     "execution_count": 14,
     "metadata": {},
     "output_type": "execute_result"
    }
   ],
   "source": [
    "y_val = np.sin(x_val) + noise_10\n",
    "y_val"
   ]
  },
  {
   "cell_type": "markdown",
   "metadata": {},
   "source": [
    "<a id='3'></a>\n",
    "# **3. Plot f(x) and training data**"
   ]
  },
  {
   "cell_type": "markdown",
   "metadata": {},
   "source": [
    "Plot the true model and training data as follows: <br> Add xlabel, ylabel, title, and legend <br>"
   ]
  },
  {
   "cell_type": "code",
   "execution_count": 15,
   "metadata": {},
   "outputs": [
    {
     "data": {
      "image/png": "[encoded data removed]",
      "text/plain": [
       "<Figure size 864x576 with 1 Axes>"
      ]
     },
     "metadata": {
      "needs_background": "light"
     },
     "output_type": "display_data"
    }
   ],
   "source": [
    "plt.figure(figsize=(12, 8))\n",
    "plt.plot(x_train, np.sin(x_train), color='r', label='f(x)=sin(x)')\n",
    "plt.scatter(x_train, y_train, color='r', label='x~f(x)')\n",
    "plt.title('Model vs Data')\n",
    "plt.xlabel('x')\n",
    "plt.ylabel('y')\n",
    "plt.legend(prop={'size': 15}, loc='upper left')\n",
    "plt.show()"
   ]
  },
  {
   "cell_type": "markdown",
   "metadata": {},
   "source": [
    "<a id='4'></a>\n",
    "# **4. Ploynomial Degree**"
   ]
  },
  {
   "cell_type": "markdown",
   "metadata": {},
   "source": [
    "Repeat the following steps by changing the polynomial degree from 0 to 9"
   ]
  },
  {
   "cell_type": "code",
   "execution_count": 16,
   "metadata": {},
   "outputs": [],
   "source": [
    "parameters = [i for i in range(10)]\n",
    "x_poly_total = []\n",
    "OMP = [] #optimal model parameter\n",
    "mse_train = [] \n",
    "mse_val = [] \n",
    "y_train_pred_all = [] \n",
    "y_val_pred_all = [] \n",
    "for parameter in parameters:\n",
    "    LR = LinearRegression()\n",
    "    PF = PolynomialFeatures(degree=parameter)\n",
    "    x_train_poly = PF.fit_transform(x_train.reshape(-1, 1))\n",
    "    x_val_poly = PF.fit_transform(x_val.reshape(-1, 1))\n",
    "    x_poly_total.append(x_train_poly)\n",
    "    LR.fit(x_train_poly, y_train)\n",
    "    OMP.append(LR.coef_)\n",
    "    y_train_pred = LR.predict(x_train_poly)\n",
    "    y_val_pred = LR.predict(x_val_poly)\n",
    "    mse_train.append(mean_squared_error(y_train, y_train_pred))\n",
    "    mse_val.append(mean_squared_error(y_val, y_val_pred))\n",
    "    y_train_pred_all.append(y_train_pred)\n",
    "    y_val_pred_all.append(y_val_pred)"
   ]
  },
  {
   "cell_type": "markdown",
   "metadata": {},
   "source": [
    "### (1) Fit $d$-th order polynomial to the training data and estimate the optimal model parameters/coefficients $w^*$"
   ]
  },
  {
   "cell_type": "code",
   "execution_count": 17,
   "metadata": {},
   "outputs": [
    {
     "data": {
      "text/html": [
       "<div>\n",
       "<style scoped>\n",
       "    .dataframe tbody tr th:only-of-type {\n",
       "        vertical-align: middle;\n",
       "    }\n",
       "\n",
       "    .dataframe tbody tr th {\n",
       "        vertical-align: top;\n",
       "    }\n",
       "\n",
       "    .dataframe thead th {\n",
       "        text-align: right;\n",
       "    }\n",
       "</style>\n",
       "<table border=\"1\" class=\"dataframe\">\n",
       "  <thead>\n",
       "    <tr style=\"text-align: right;\">\n",
       "      <th></th>\n",
       "      <th>d0</th>\n",
       "      <th>d1</th>\n",
       "      <th>d2</th>\n",
       "      <th>d3</th>\n",
       "      <th>d4</th>\n",
       "      <th>d5</th>\n",
       "      <th>d6</th>\n",
       "      <th>d7</th>\n",
       "      <th>d8</th>\n",
       "      <th>d9</th>\n",
       "    </tr>\n",
       "  </thead>\n",
       "  <tbody>\n",
       "    <tr>\n",
       "      <th>r1</th>\n",
       "      <td>0.0</td>\n",
       "      <td>0.000000</td>\n",
       "      <td>0.000000</td>\n",
       "      <td>0.000000</td>\n",
       "      <td>0.000000</td>\n",
       "      <td>0.000000</td>\n",
       "      <td>0.000000</td>\n",
       "      <td>0.000000</td>\n",
       "      <td>0.000000</td>\n",
       "      <td>0.000000</td>\n",
       "    </tr>\n",
       "    <tr>\n",
       "      <th>r2</th>\n",
       "      <td>NaN</td>\n",
       "      <td>0.326685</td>\n",
       "      <td>0.326685</td>\n",
       "      <td>1.253035</td>\n",
       "      <td>1.253035</td>\n",
       "      <td>1.138799</td>\n",
       "      <td>1.138799</td>\n",
       "      <td>1.306287</td>\n",
       "      <td>1.306287</td>\n",
       "      <td>1.412945</td>\n",
       "    </tr>\n",
       "    <tr>\n",
       "      <th>r3</th>\n",
       "      <td>NaN</td>\n",
       "      <td>NaN</td>\n",
       "      <td>-0.022503</td>\n",
       "      <td>-0.022503</td>\n",
       "      <td>-0.088373</td>\n",
       "      <td>-0.088373</td>\n",
       "      <td>-0.206193</td>\n",
       "      <td>-0.206193</td>\n",
       "      <td>-0.513844</td>\n",
       "      <td>-0.513844</td>\n",
       "    </tr>\n",
       "    <tr>\n",
       "      <th>r4</th>\n",
       "      <td>NaN</td>\n",
       "      <td>NaN</td>\n",
       "      <td>NaN</td>\n",
       "      <td>-0.142643</td>\n",
       "      <td>-0.142643</td>\n",
       "      <td>-0.092698</td>\n",
       "      <td>-0.092698</td>\n",
       "      <td>-0.236907</td>\n",
       "      <td>-0.236907</td>\n",
       "      <td>-0.390954</td>\n",
       "    </tr>\n",
       "    <tr>\n",
       "      <th>r5</th>\n",
       "      <td>NaN</td>\n",
       "      <td>NaN</td>\n",
       "      <td>NaN</td>\n",
       "      <td>NaN</td>\n",
       "      <td>0.007133</td>\n",
       "      <td>0.007133</td>\n",
       "      <td>0.040509</td>\n",
       "      <td>0.040509</td>\n",
       "      <td>0.204267</td>\n",
       "      <td>0.204267</td>\n",
       "    </tr>\n",
       "    <tr>\n",
       "      <th>r6</th>\n",
       "      <td>NaN</td>\n",
       "      <td>NaN</td>\n",
       "      <td>NaN</td>\n",
       "      <td>NaN</td>\n",
       "      <td>NaN</td>\n",
       "      <td>-0.004198</td>\n",
       "      <td>-0.004198</td>\n",
       "      <td>0.026048</td>\n",
       "      <td>0.026048</td>\n",
       "      <td>0.084979</td>\n",
       "    </tr>\n",
       "    <tr>\n",
       "      <th>r7</th>\n",
       "      <td>NaN</td>\n",
       "      <td>NaN</td>\n",
       "      <td>NaN</td>\n",
       "      <td>NaN</td>\n",
       "      <td>NaN</td>\n",
       "      <td>NaN</td>\n",
       "      <td>-0.002303</td>\n",
       "      <td>-0.002303</td>\n",
       "      <td>-0.029671</td>\n",
       "      <td>-0.029671</td>\n",
       "    </tr>\n",
       "    <tr>\n",
       "      <th>r8</th>\n",
       "      <td>NaN</td>\n",
       "      <td>NaN</td>\n",
       "      <td>NaN</td>\n",
       "      <td>NaN</td>\n",
       "      <td>NaN</td>\n",
       "      <td>NaN</td>\n",
       "      <td>NaN</td>\n",
       "      <td>-0.001778</td>\n",
       "      <td>-0.001778</td>\n",
       "      <td>-0.010003</td>\n",
       "    </tr>\n",
       "    <tr>\n",
       "      <th>r9</th>\n",
       "      <td>NaN</td>\n",
       "      <td>NaN</td>\n",
       "      <td>NaN</td>\n",
       "      <td>NaN</td>\n",
       "      <td>NaN</td>\n",
       "      <td>NaN</td>\n",
       "      <td>NaN</td>\n",
       "      <td>NaN</td>\n",
       "      <td>0.001408</td>\n",
       "      <td>0.001408</td>\n",
       "    </tr>\n",
       "    <tr>\n",
       "      <th>r10</th>\n",
       "      <td>NaN</td>\n",
       "      <td>NaN</td>\n",
       "      <td>NaN</td>\n",
       "      <td>NaN</td>\n",
       "      <td>NaN</td>\n",
       "      <td>NaN</td>\n",
       "      <td>NaN</td>\n",
       "      <td>NaN</td>\n",
       "      <td>NaN</td>\n",
       "      <td>0.000378</td>\n",
       "    </tr>\n",
       "  </tbody>\n",
       "</table>\n",
       "</div>"
      ],
      "text/plain": [
       "      d0        d1        d2        d3        d4        d5        d6  \\\n",
       "r1   0.0  0.000000  0.000000  0.000000  0.000000  0.000000  0.000000   \n",
       "r2   NaN  0.326685  0.326685  1.253035  1.253035  1.138799  1.138799   \n",
       "r3   NaN       NaN -0.022503 -0.022503 -0.088373 -0.088373 -0.206193   \n",
       "r4   NaN       NaN       NaN -0.142643 -0.142643 -0.092698 -0.092698   \n",
       "r5   NaN       NaN       NaN       NaN  0.007133  0.007133  0.040509   \n",
       "r6   NaN       NaN       NaN       NaN       NaN -0.004198 -0.004198   \n",
       "r7   NaN       NaN       NaN       NaN       NaN       NaN -0.002303   \n",
       "r8   NaN       NaN       NaN       NaN       NaN       NaN       NaN   \n",
       "r9   NaN       NaN       NaN       NaN       NaN       NaN       NaN   \n",
       "r10  NaN       NaN       NaN       NaN       NaN       NaN       NaN   \n",
       "\n",
       "           d7        d8        d9  \n",
       "r1   0.000000  0.000000  0.000000  \n",
       "r2   1.306287  1.306287  1.412945  \n",
       "r3  -0.206193 -0.513844 -0.513844  \n",
       "r4  -0.236907 -0.236907 -0.390954  \n",
       "r5   0.040509  0.204267  0.204267  \n",
       "r6   0.026048  0.026048  0.084979  \n",
       "r7  -0.002303 -0.029671 -0.029671  \n",
       "r8  -0.001778 -0.001778 -0.010003  \n",
       "r9        NaN  0.001408  0.001408  \n",
       "r10       NaN       NaN  0.000378  "
      ]
     },
     "execution_count": 17,
     "metadata": {},
     "output_type": "execute_result"
    }
   ],
   "source": [
    "w = pd.DataFrame(OMP).T\n",
    "w.columns = ['d'+str(i) for i in range(0, 10)]\n",
    "w.index = ['r'+str(i) for i in range(1, 11)]\n",
    "w"
   ]
  },
  {
   "cell_type": "markdown",
   "metadata": {},
   "source": [
    "### (2)  Get your model predictions $\\hat{y}_{train}$ and $\\hat{y}_{val}$ from $x_{train}$ and $x_{val}$."
   ]
  },
  {
   "cell_type": "markdown",
   "metadata": {},
   "source": [
    "#### We already put all $\\hat{y}_{train}$ in (y_train_pred_all).  Just print all $\\hat{y}_{train}$"
   ]
  },
  {
   "cell_type": "code",
   "execution_count": 18,
   "metadata": {},
   "outputs": [
    {
     "data": {
      "text/html": [
       "<div>\n",
       "<style scoped>\n",
       "    .dataframe tbody tr th:only-of-type {\n",
       "        vertical-align: middle;\n",
       "    }\n",
       "\n",
       "    .dataframe tbody tr th {\n",
       "        vertical-align: top;\n",
       "    }\n",
       "\n",
       "    .dataframe thead th {\n",
       "        text-align: right;\n",
       "    }\n",
       "</style>\n",
       "<table border=\"1\" class=\"dataframe\">\n",
       "  <thead>\n",
       "    <tr style=\"text-align: right;\">\n",
       "      <th></th>\n",
       "      <th>d0</th>\n",
       "      <th>d1</th>\n",
       "      <th>d2</th>\n",
       "      <th>d3</th>\n",
       "      <th>d4</th>\n",
       "      <th>d5</th>\n",
       "      <th>d6</th>\n",
       "      <th>d7</th>\n",
       "      <th>d8</th>\n",
       "      <th>d9</th>\n",
       "    </tr>\n",
       "  </thead>\n",
       "  <tbody>\n",
       "    <tr>\n",
       "      <th>r1</th>\n",
       "      <td>0.048889</td>\n",
       "      <td>-0.977421</td>\n",
       "      <td>-1.118082</td>\n",
       "      <td>0.394522</td>\n",
       "      <td>0.509934</td>\n",
       "      <td>0.604771</td>\n",
       "      <td>0.537891</td>\n",
       "      <td>0.599041</td>\n",
       "      <td>0.651766</td>\n",
       "      <td>0.637651</td>\n",
       "    </tr>\n",
       "    <tr>\n",
       "      <th>r2</th>\n",
       "      <td>0.048889</td>\n",
       "      <td>-0.874790</td>\n",
       "      <td>-0.973253</td>\n",
       "      <td>-0.368211</td>\n",
       "      <td>-0.368211</td>\n",
       "      <td>-0.415630</td>\n",
       "      <td>-0.342061</td>\n",
       "      <td>-0.452132</td>\n",
       "      <td>-0.589218</td>\n",
       "      <td>-0.539812</td>\n",
       "    </tr>\n",
       "    <tr>\n",
       "      <th>r3</th>\n",
       "      <td>0.048889</td>\n",
       "      <td>-0.772159</td>\n",
       "      <td>-0.832866</td>\n",
       "      <td>-0.896554</td>\n",
       "      <td>-0.957298</td>\n",
       "      <td>-1.042151</td>\n",
       "      <td>-0.975975</td>\n",
       "      <td>-1.013953</td>\n",
       "      <td>-0.991198</td>\n",
       "      <td>-1.025373</td>\n",
       "    </tr>\n",
       "    <tr>\n",
       "      <th>r4</th>\n",
       "      <td>0.048889</td>\n",
       "      <td>-0.669528</td>\n",
       "      <td>-0.696920</td>\n",
       "      <td>-1.217043</td>\n",
       "      <td>-1.298035</td>\n",
       "      <td>-1.362091</td>\n",
       "      <td>-1.352587</td>\n",
       "      <td>-1.300449</td>\n",
       "      <td>-1.195553</td>\n",
       "      <td>-1.231585</td>\n",
       "    </tr>\n",
       "    <tr>\n",
       "      <th>r5</th>\n",
       "      <td>0.048889</td>\n",
       "      <td>-0.566897</td>\n",
       "      <td>-0.565416</td>\n",
       "      <td>-1.356216</td>\n",
       "      <td>-1.429466</td>\n",
       "      <td>-1.448746</td>\n",
       "      <td>-1.490117</td>\n",
       "      <td>-1.409353</td>\n",
       "      <td>-1.350294</td>\n",
       "      <td>-1.340112</td>\n",
       "    </tr>\n",
       "    <tr>\n",
       "      <th>r6</th>\n",
       "      <td>0.048889</td>\n",
       "      <td>-0.464266</td>\n",
       "      <td>-0.438355</td>\n",
       "      <td>-1.340610</td>\n",
       "      <td>-1.388966</td>\n",
       "      <td>-1.362957</td>\n",
       "      <td>-1.425852</td>\n",
       "      <td>-1.377291</td>\n",
       "      <td>-1.410347</td>\n",
       "      <td>-1.372337</td>\n",
       "    </tr>\n",
       "    <tr>\n",
       "      <th>r7</th>\n",
       "      <td>0.048889</td>\n",
       "      <td>-0.361635</td>\n",
       "      <td>-0.315735</td>\n",
       "      <td>-1.196761</td>\n",
       "      <td>-1.212244</td>\n",
       "      <td>-1.154647</td>\n",
       "      <td>-1.207323</td>\n",
       "      <td>-1.217603</td>\n",
       "      <td>-1.306094</td>\n",
       "      <td>-1.281358</td>\n",
       "    </tr>\n",
       "    <tr>\n",
       "      <th>r8</th>\n",
       "      <td>0.048889</td>\n",
       "      <td>-0.259004</td>\n",
       "      <td>-0.197557</td>\n",
       "      <td>-0.951206</td>\n",
       "      <td>-0.933340</td>\n",
       "      <td>-0.864366</td>\n",
       "      <td>-0.885082</td>\n",
       "      <td>-0.943525</td>\n",
       "      <td>-1.017912</td>\n",
       "      <td>-1.028083</td>\n",
       "    </tr>\n",
       "    <tr>\n",
       "      <th>r9</th>\n",
       "      <td>0.048889</td>\n",
       "      <td>-0.156373</td>\n",
       "      <td>-0.083821</td>\n",
       "      <td>-0.630482</td>\n",
       "      <td>-0.584626</td>\n",
       "      <td>-0.524827</td>\n",
       "      <td>-0.507062</td>\n",
       "      <td>-0.579420</td>\n",
       "      <td>-0.589018</td>\n",
       "      <td>-0.623280</td>\n",
       "    </tr>\n",
       "    <tr>\n",
       "      <th>r10</th>\n",
       "      <td>0.048889</td>\n",
       "      <td>-0.053742</td>\n",
       "      <td>0.025473</td>\n",
       "      <td>-0.261126</td>\n",
       "      <td>-0.196809</td>\n",
       "      <td>-0.162457</td>\n",
       "      <td>-0.114543</td>\n",
       "      <td>-0.162782</td>\n",
       "      <td>-0.103592</td>\n",
       "      <td>-0.132501</td>\n",
       "    </tr>\n",
       "    <tr>\n",
       "      <th>r11</th>\n",
       "      <td>0.048889</td>\n",
       "      <td>0.048889</td>\n",
       "      <td>0.130325</td>\n",
       "      <td>0.130325</td>\n",
       "      <td>0.201073</td>\n",
       "      <td>0.201073</td>\n",
       "      <td>0.260292</td>\n",
       "      <td>0.260292</td>\n",
       "      <td>0.348276</td>\n",
       "      <td>0.348276</td>\n",
       "    </tr>\n",
       "    <tr>\n",
       "      <th>r12</th>\n",
       "      <td>0.048889</td>\n",
       "      <td>0.151520</td>\n",
       "      <td>0.230735</td>\n",
       "      <td>0.517333</td>\n",
       "      <td>0.581650</td>\n",
       "      <td>0.547297</td>\n",
       "      <td>0.595211</td>\n",
       "      <td>0.643450</td>\n",
       "      <td>0.702639</td>\n",
       "      <td>0.731548</td>\n",
       "    </tr>\n",
       "    <tr>\n",
       "      <th>r13</th>\n",
       "      <td>0.048889</td>\n",
       "      <td>0.254152</td>\n",
       "      <td>0.326703</td>\n",
       "      <td>0.873363</td>\n",
       "      <td>0.919219</td>\n",
       "      <td>0.859420</td>\n",
       "      <td>0.877185</td>\n",
       "      <td>0.949543</td>\n",
       "      <td>0.939945</td>\n",
       "      <td>0.974208</td>\n",
       "    </tr>\n",
       "    <tr>\n",
       "      <th>r14</th>\n",
       "      <td>0.048889</td>\n",
       "      <td>0.356783</td>\n",
       "      <td>0.418229</td>\n",
       "      <td>1.171877</td>\n",
       "      <td>1.189743</td>\n",
       "      <td>1.120769</td>\n",
       "      <td>1.100053</td>\n",
       "      <td>1.158495</td>\n",
       "      <td>1.084109</td>\n",
       "      <td>1.094280</td>\n",
       "    </tr>\n",
       "    <tr>\n",
       "      <th>r15</th>\n",
       "      <td>0.048889</td>\n",
       "      <td>0.459414</td>\n",
       "      <td>0.505314</td>\n",
       "      <td>1.386339</td>\n",
       "      <td>1.370855</td>\n",
       "      <td>1.313258</td>\n",
       "      <td>1.260582</td>\n",
       "      <td>1.270863</td>\n",
       "      <td>1.182372</td>\n",
       "      <td>1.157637</td>\n",
       "    </tr>\n",
       "    <tr>\n",
       "      <th>r16</th>\n",
       "      <td>0.048889</td>\n",
       "      <td>0.562045</td>\n",
       "      <td>0.587956</td>\n",
       "      <td>1.490211</td>\n",
       "      <td>1.441854</td>\n",
       "      <td>1.415845</td>\n",
       "      <td>1.352951</td>\n",
       "      <td>1.304390</td>\n",
       "      <td>1.271335</td>\n",
       "      <td>1.233325</td>\n",
       "    </tr>\n",
       "    <tr>\n",
       "      <th>r17</th>\n",
       "      <td>0.048889</td>\n",
       "      <td>0.664676</td>\n",
       "      <td>0.666157</td>\n",
       "      <td>1.456956</td>\n",
       "      <td>1.383707</td>\n",
       "      <td>1.402987</td>\n",
       "      <td>1.361617</td>\n",
       "      <td>1.280853</td>\n",
       "      <td>1.339912</td>\n",
       "      <td>1.329730</td>\n",
       "    </tr>\n",
       "    <tr>\n",
       "      <th>r18</th>\n",
       "      <td>0.048889</td>\n",
       "      <td>0.767307</td>\n",
       "      <td>0.739915</td>\n",
       "      <td>1.260039</td>\n",
       "      <td>1.179047</td>\n",
       "      <td>1.243104</td>\n",
       "      <td>1.252608</td>\n",
       "      <td>1.200469</td>\n",
       "      <td>1.305365</td>\n",
       "      <td>1.341397</td>\n",
       "    </tr>\n",
       "    <tr>\n",
       "      <th>r19</th>\n",
       "      <td>0.048889</td>\n",
       "      <td>0.869938</td>\n",
       "      <td>0.809232</td>\n",
       "      <td>0.872920</td>\n",
       "      <td>0.812177</td>\n",
       "      <td>0.897031</td>\n",
       "      <td>0.963207</td>\n",
       "      <td>1.001185</td>\n",
       "      <td>1.023940</td>\n",
       "      <td>1.058115</td>\n",
       "    </tr>\n",
       "    <tr>\n",
       "      <th>r20</th>\n",
       "      <td>0.048889</td>\n",
       "      <td>0.972569</td>\n",
       "      <td>0.874107</td>\n",
       "      <td>0.269065</td>\n",
       "      <td>0.269065</td>\n",
       "      <td>0.316483</td>\n",
       "      <td>0.390052</td>\n",
       "      <td>0.500122</td>\n",
       "      <td>0.363036</td>\n",
       "      <td>0.313631</td>\n",
       "    </tr>\n",
       "    <tr>\n",
       "      <th>r21</th>\n",
       "      <td>0.048889</td>\n",
       "      <td>1.075200</td>\n",
       "      <td>0.934540</td>\n",
       "      <td>-0.578064</td>\n",
       "      <td>-0.462652</td>\n",
       "      <td>-0.557488</td>\n",
       "      <td>-0.624369</td>\n",
       "      <td>-0.685519</td>\n",
       "      <td>-0.632793</td>\n",
       "      <td>-0.618678</td>\n",
       "    </tr>\n",
       "  </tbody>\n",
       "</table>\n",
       "</div>"
      ],
      "text/plain": [
       "           d0        d1        d2        d3        d4        d5        d6  \\\n",
       "r1   0.048889 -0.977421 -1.118082  0.394522  0.509934  0.604771  0.537891   \n",
       "r2   0.048889 -0.874790 -0.973253 -0.368211 -0.368211 -0.415630 -0.342061   \n",
       "r3   0.048889 -0.772159 -0.832866 -0.896554 -0.957298 -1.042151 -0.975975   \n",
       "r4   0.048889 -0.669528 -0.696920 -1.217043 -1.298035 -1.362091 -1.352587   \n",
       "r5   0.048889 -0.566897 -0.565416 -1.356216 -1.429466 -1.448746 -1.490117   \n",
       "r6   0.048889 -0.464266 -0.438355 -1.340610 -1.388966 -1.362957 -1.425852   \n",
       "r7   0.048889 -0.361635 -0.315735 -1.196761 -1.212244 -1.154647 -1.207323   \n",
       "r8   0.048889 -0.259004 -0.197557 -0.951206 -0.933340 -0.864366 -0.885082   \n",
       "r9   0.048889 -0.156373 -0.083821 -0.630482 -0.584626 -0.524827 -0.507062   \n",
       "r10  0.048889 -0.053742  0.025473 -0.261126 -0.196809 -0.162457 -0.114543   \n",
       "r11  0.048889  0.048889  0.130325  0.130325  0.201073  0.201073  0.260292   \n",
       "r12  0.048889  0.151520  0.230735  0.517333  0.581650  0.547297  0.595211   \n",
       "r13  0.048889  0.254152  0.326703  0.873363  0.919219  0.859420  0.877185   \n",
       "r14  0.048889  0.356783  0.418229  1.171877  1.189743  1.120769  1.100053   \n",
       "r15  0.048889  0.459414  0.505314  1.386339  1.370855  1.313258  1.260582   \n",
       "r16  0.048889  0.562045  0.587956  1.490211  1.441854  1.415845  1.352951   \n",
       "r17  0.048889  0.664676  0.666157  1.456956  1.383707  1.402987  1.361617   \n",
       "r18  0.048889  0.767307  0.739915  1.260039  1.179047  1.243104  1.252608   \n",
       "r19  0.048889  0.869938  0.809232  0.872920  0.812177  0.897031  0.963207   \n",
       "r20  0.048889  0.972569  0.874107  0.269065  0.269065  0.316483  0.390052   \n",
       "r21  0.048889  1.075200  0.934540 -0.578064 -0.462652 -0.557488 -0.624369   \n",
       "\n",
       "           d7        d8        d9  \n",
       "r1   0.599041  0.651766  0.637651  \n",
       "r2  -0.452132 -0.589218 -0.539812  \n",
       "r3  -1.013953 -0.991198 -1.025373  \n",
       "r4  -1.300449 -1.195553 -1.231585  \n",
       "r5  -1.409353 -1.350294 -1.340112  \n",
       "r6  -1.377291 -1.410347 -1.372337  \n",
       "r7  -1.217603 -1.306094 -1.281358  \n",
       "r8  -0.943525 -1.017912 -1.028083  \n",
       "r9  -0.579420 -0.589018 -0.623280  \n",
       "r10 -0.162782 -0.103592 -0.132501  \n",
       "r11  0.260292  0.348276  0.348276  \n",
       "r12  0.643450  0.702639  0.731548  \n",
       "r13  0.949543  0.939945  0.974208  \n",
       "r14  1.158495  1.084109  1.094280  \n",
       "r15  1.270863  1.182372  1.157637  \n",
       "r16  1.304390  1.271335  1.233325  \n",
       "r17  1.280853  1.339912  1.329730  \n",
       "r18  1.200469  1.305365  1.341397  \n",
       "r19  1.001185  1.023940  1.058115  \n",
       "r20  0.500122  0.363036  0.313631  \n",
       "r21 -0.685519 -0.632793 -0.618678  "
      ]
     },
     "execution_count": 18,
     "metadata": {},
     "output_type": "execute_result"
    }
   ],
   "source": [
    "y_train_hat = pd.DataFrame(y_train_pred_all).T\n",
    "y_train_hat.columns = ['d'+str(i) for i in range(0, 10)]\n",
    "y_train_hat.index = ['r'+str(i) for i in range(1, 22)]\n",
    "y_train_hat"
   ]
  },
  {
   "cell_type": "markdown",
   "metadata": {},
   "source": [
    "#### We already insert all $\\hat{y}_{val}$ in (y_val_pred_all).  Just print all $\\hat{y}_{val}$"
   ]
  },
  {
   "cell_type": "code",
   "execution_count": 19,
   "metadata": {},
   "outputs": [
    {
     "data": {
      "text/html": [
       "<div>\n",
       "<style scoped>\n",
       "    .dataframe tbody tr th:only-of-type {\n",
       "        vertical-align: middle;\n",
       "    }\n",
       "\n",
       "    .dataframe tbody tr th {\n",
       "        vertical-align: top;\n",
       "    }\n",
       "\n",
       "    .dataframe thead th {\n",
       "        text-align: right;\n",
       "    }\n",
       "</style>\n",
       "<table border=\"1\" class=\"dataframe\">\n",
       "  <thead>\n",
       "    <tr style=\"text-align: right;\">\n",
       "      <th></th>\n",
       "      <th>d0</th>\n",
       "      <th>d1</th>\n",
       "      <th>d2</th>\n",
       "      <th>d3</th>\n",
       "      <th>d4</th>\n",
       "      <th>d5</th>\n",
       "      <th>d6</th>\n",
       "      <th>d7</th>\n",
       "      <th>d8</th>\n",
       "      <th>d9</th>\n",
       "    </tr>\n",
       "  </thead>\n",
       "  <tbody>\n",
       "    <tr>\n",
       "      <th>r1</th>\n",
       "      <td>0.048889</td>\n",
       "      <td>-0.977421</td>\n",
       "      <td>-1.118082</td>\n",
       "      <td>0.394522</td>\n",
       "      <td>0.509934</td>\n",
       "      <td>0.604771</td>\n",
       "      <td>0.537891</td>\n",
       "      <td>0.599041</td>\n",
       "      <td>0.651766</td>\n",
       "      <td>0.637651</td>\n",
       "    </tr>\n",
       "    <tr>\n",
       "      <th>r2</th>\n",
       "      <td>0.048889</td>\n",
       "      <td>-0.749352</td>\n",
       "      <td>-0.802272</td>\n",
       "      <td>-0.984802</td>\n",
       "      <td>-1.053079</td>\n",
       "      <td>-1.136955</td>\n",
       "      <td>-1.081645</td>\n",
       "      <td>-1.096596</td>\n",
       "      <td>-1.043341</td>\n",
       "      <td>-1.085665</td>\n",
       "    </tr>\n",
       "    <tr>\n",
       "      <th>r3</th>\n",
       "      <td>0.048889</td>\n",
       "      <td>-0.521283</td>\n",
       "      <td>-0.508396</td>\n",
       "      <td>-1.366811</td>\n",
       "      <td>-1.430531</td>\n",
       "      <td>-1.428705</td>\n",
       "      <td>-1.483790</td>\n",
       "      <td>-1.411502</td>\n",
       "      <td>-1.393458</td>\n",
       "      <td>-1.366061</td>\n",
       "    </tr>\n",
       "    <tr>\n",
       "      <th>r4</th>\n",
       "      <td>0.048889</td>\n",
       "      <td>-0.293214</td>\n",
       "      <td>-0.236456</td>\n",
       "      <td>-1.042720</td>\n",
       "      <td>-1.035629</td>\n",
       "      <td>-0.968070</td>\n",
       "      <td>-1.000955</td>\n",
       "      <td>-1.046375</td>\n",
       "      <td>-1.132889</td>\n",
       "      <td>-1.131106</td>\n",
       "    </tr>\n",
       "    <tr>\n",
       "      <th>r5</th>\n",
       "      <td>0.048889</td>\n",
       "      <td>-0.065145</td>\n",
       "      <td>0.013548</td>\n",
       "      <td>-0.303742</td>\n",
       "      <td>-0.240914</td>\n",
       "      <td>-0.203141</td>\n",
       "      <td>-0.157786</td>\n",
       "      <td>-0.210273</td>\n",
       "      <td>-0.157392</td>\n",
       "      <td>-0.188371</td>\n",
       "    </tr>\n",
       "    <tr>\n",
       "      <th>r6</th>\n",
       "      <td>0.048889</td>\n",
       "      <td>0.162924</td>\n",
       "      <td>0.241617</td>\n",
       "      <td>0.558907</td>\n",
       "      <td>0.621735</td>\n",
       "      <td>0.583962</td>\n",
       "      <td>0.629317</td>\n",
       "      <td>0.681803</td>\n",
       "      <td>0.734683</td>\n",
       "      <td>0.765662</td>\n",
       "    </tr>\n",
       "    <tr>\n",
       "      <th>r7</th>\n",
       "      <td>0.048889</td>\n",
       "      <td>0.390993</td>\n",
       "      <td>0.447751</td>\n",
       "      <td>1.254014</td>\n",
       "      <td>1.261105</td>\n",
       "      <td>1.193547</td>\n",
       "      <td>1.160662</td>\n",
       "      <td>1.206081</td>\n",
       "      <td>1.119566</td>\n",
       "      <td>1.117783</td>\n",
       "    </tr>\n",
       "    <tr>\n",
       "      <th>r8</th>\n",
       "      <td>0.048889</td>\n",
       "      <td>0.619062</td>\n",
       "      <td>0.631949</td>\n",
       "      <td>1.490364</td>\n",
       "      <td>1.426644</td>\n",
       "      <td>1.424818</td>\n",
       "      <td>1.369734</td>\n",
       "      <td>1.297445</td>\n",
       "      <td>1.315489</td>\n",
       "      <td>1.288092</td>\n",
       "    </tr>\n",
       "    <tr>\n",
       "      <th>r9</th>\n",
       "      <td>0.048889</td>\n",
       "      <td>0.847131</td>\n",
       "      <td>0.794212</td>\n",
       "      <td>0.976743</td>\n",
       "      <td>0.908467</td>\n",
       "      <td>0.992343</td>\n",
       "      <td>1.047653</td>\n",
       "      <td>1.062603</td>\n",
       "      <td>1.115858</td>\n",
       "      <td>1.158182</td>\n",
       "    </tr>\n",
       "    <tr>\n",
       "      <th>r10</th>\n",
       "      <td>0.048889</td>\n",
       "      <td>1.075200</td>\n",
       "      <td>0.934540</td>\n",
       "      <td>-0.578064</td>\n",
       "      <td>-0.462652</td>\n",
       "      <td>-0.557488</td>\n",
       "      <td>-0.624369</td>\n",
       "      <td>-0.685519</td>\n",
       "      <td>-0.632793</td>\n",
       "      <td>-0.618678</td>\n",
       "    </tr>\n",
       "  </tbody>\n",
       "</table>\n",
       "</div>"
      ],
      "text/plain": [
       "           d0        d1        d2        d3        d4        d5        d6  \\\n",
       "r1   0.048889 -0.977421 -1.118082  0.394522  0.509934  0.604771  0.537891   \n",
       "r2   0.048889 -0.749352 -0.802272 -0.984802 -1.053079 -1.136955 -1.081645   \n",
       "r3   0.048889 -0.521283 -0.508396 -1.366811 -1.430531 -1.428705 -1.483790   \n",
       "r4   0.048889 -0.293214 -0.236456 -1.042720 -1.035629 -0.968070 -1.000955   \n",
       "r5   0.048889 -0.065145  0.013548 -0.303742 -0.240914 -0.203141 -0.157786   \n",
       "r6   0.048889  0.162924  0.241617  0.558907  0.621735  0.583962  0.629317   \n",
       "r7   0.048889  0.390993  0.447751  1.254014  1.261105  1.193547  1.160662   \n",
       "r8   0.048889  0.619062  0.631949  1.490364  1.426644  1.424818  1.369734   \n",
       "r9   0.048889  0.847131  0.794212  0.976743  0.908467  0.992343  1.047653   \n",
       "r10  0.048889  1.075200  0.934540 -0.578064 -0.462652 -0.557488 -0.624369   \n",
       "\n",
       "           d7        d8        d9  \n",
       "r1   0.599041  0.651766  0.637651  \n",
       "r2  -1.096596 -1.043341 -1.085665  \n",
       "r3  -1.411502 -1.393458 -1.366061  \n",
       "r4  -1.046375 -1.132889 -1.131106  \n",
       "r5  -0.210273 -0.157392 -0.188371  \n",
       "r6   0.681803  0.734683  0.765662  \n",
       "r7   1.206081  1.119566  1.117783  \n",
       "r8   1.297445  1.315489  1.288092  \n",
       "r9   1.062603  1.115858  1.158182  \n",
       "r10 -0.685519 -0.632793 -0.618678  "
      ]
     },
     "execution_count": 19,
     "metadata": {},
     "output_type": "execute_result"
    }
   ],
   "source": [
    "y_train_hat = pd.DataFrame(y_val_pred_all).T\n",
    "y_train_hat.columns = ['d'+str(i) for i in range(0, 10)]\n",
    "y_train_hat.index = ['r'+str(i) for i in range(1, 11)]\n",
    "y_train_hat"
   ]
  },
  {
   "cell_type": "markdown",
   "metadata": {},
   "source": [
    "### (3) Compute the mean squared error $MSE_{train}$ and $MSE_{val}$. The MSE of training and validation data should be stored every iteration in two separate vectors/lists for visualization in step 5."
   ]
  },
  {
   "cell_type": "code",
   "execution_count": 20,
   "metadata": {},
   "outputs": [
    {
     "data": {
      "text/html": [
       "<div>\n",
       "<style scoped>\n",
       "    .dataframe tbody tr th:only-of-type {\n",
       "        vertical-align: middle;\n",
       "    }\n",
       "\n",
       "    .dataframe tbody tr th {\n",
       "        vertical-align: top;\n",
       "    }\n",
       "\n",
       "    .dataframe thead th {\n",
       "        text-align: right;\n",
       "    }\n",
       "</style>\n",
       "<table border=\"1\" class=\"dataframe\">\n",
       "  <thead>\n",
       "    <tr style=\"text-align: right;\">\n",
       "      <th></th>\n",
       "      <th>d0</th>\n",
       "      <th>d1</th>\n",
       "      <th>d2</th>\n",
       "      <th>d3</th>\n",
       "      <th>d4</th>\n",
       "      <th>d5</th>\n",
       "      <th>d6</th>\n",
       "      <th>d7</th>\n",
       "      <th>d8</th>\n",
       "      <th>d9</th>\n",
       "    </tr>\n",
       "  </thead>\n",
       "  <tbody>\n",
       "    <tr>\n",
       "      <th>MSE_train</th>\n",
       "      <td>1.100565</td>\n",
       "      <td>0.71435</td>\n",
       "      <td>0.709081</td>\n",
       "      <td>0.128773</td>\n",
       "      <td>0.124909</td>\n",
       "      <td>0.121440</td>\n",
       "      <td>0.118812</td>\n",
       "      <td>0.115005</td>\n",
       "      <td>0.109433</td>\n",
       "      <td>0.108539</td>\n",
       "    </tr>\n",
       "    <tr>\n",
       "      <th>MSE_val</th>\n",
       "      <td>0.724506</td>\n",
       "      <td>0.65384</td>\n",
       "      <td>0.654950</td>\n",
       "      <td>0.210935</td>\n",
       "      <td>0.221537</td>\n",
       "      <td>0.246092</td>\n",
       "      <td>0.238247</td>\n",
       "      <td>0.247250</td>\n",
       "      <td>0.245390</td>\n",
       "      <td>0.254955</td>\n",
       "    </tr>\n",
       "  </tbody>\n",
       "</table>\n",
       "</div>"
      ],
      "text/plain": [
       "                 d0       d1        d2        d3        d4        d5  \\\n",
       "MSE_train  1.100565  0.71435  0.709081  0.128773  0.124909  0.121440   \n",
       "MSE_val    0.724506  0.65384  0.654950  0.210935  0.221537  0.246092   \n",
       "\n",
       "                 d6        d7        d8        d9  \n",
       "MSE_train  0.118812  0.115005  0.109433  0.108539  \n",
       "MSE_val    0.238247  0.247250  0.245390  0.254955  "
      ]
     },
     "execution_count": 20,
     "metadata": {},
     "output_type": "execute_result"
    }
   ],
   "source": [
    "MSE_train = pd.DataFrame(mse_train).T\n",
    "MSE_val = pd.DataFrame(mse_val).T\n",
    "MSE_total = pd.concat([MSE_train, MSE_val])\n",
    "MSE_total.columns = ['d'+str(i) for i in range(0, 10)]\n",
    "MSE_total.index = ['MSE_train', 'MSE_val']\n",
    "MSE_total"
   ]
  },
  {
   "cell_type": "markdown",
   "metadata": {},
   "source": [
    "### (4) Make a subplot of the best-fit $d$-th order polynomial curve along with training data"
   ]
  },
  {
   "cell_type": "code",
   "execution_count": 21,
   "metadata": {},
   "outputs": [
    {
     "data": {
      "image/png": "[encoded data removed]",
      "text/plain": [
       "<Figure size 1440x144 with 10 Axes>"
      ]
     },
     "metadata": {
      "needs_background": "light"
     },
     "output_type": "display_data"
    }
   ],
   "source": [
    "plt.figure(figsize=(20, 2))\n",
    "for i in range(10):\n",
    "    plt.subplot(1, 10, i+1)\n",
    "    plt.scatter(x_train, y_train, color='r', s=10)\n",
    "    plt.plot(x_train, y_train_pred_all[i], color='b')\n",
    "    plt.title('degree='+ str(i))\n",
    "plt.subplots_adjust(wspace=0.2)"
   ]
  },
  {
   "cell_type": "markdown",
   "metadata": {},
   "source": [
    "<a id='5'></a>\n",
    "# **5. Plot MSE**"
   ]
  },
  {
   "cell_type": "markdown",
   "metadata": {},
   "source": [
    "Plot the MSE as a function of the polynomial degree given the vectors/lists obtained in step 4-iii: <br> Note: Be sure to add xlabel, ylabel and legend accordingly. <br>"
   ]
  },
  {
   "cell_type": "code",
   "execution_count": 22,
   "metadata": {
    "scrolled": true
   },
   "outputs": [
    {
     "data": {
      "image/png": "[encoded data removed]",
      "text/plain": [
       "<Figure size 720x360 with 1 Axes>"
      ]
     },
     "metadata": {
      "needs_background": "light"
     },
     "output_type": "display_data"
    }
   ],
   "source": [
    "plt.figure(figsize=(10, 5))\n",
    "plt.plot(parameters, np.log(mse_train), color='g', marker='o', label='Train')\n",
    "plt.plot(parameters, np.log(mse_val), color='r', marker='o', label='Val')\n",
    "plt.xlabel('degree', fontsize=15)\n",
    "plt.ylabel('log(MSE)', fontsize=15)\n",
    "plt.legend(prop={'size': 18})\n",
    "plt.show()"
   ]
  },
  {
   "cell_type": "markdown",
   "metadata": {},
   "source": [
    "# <center>Thank You!<center>"
   ]
  }
 ],
 "metadata": {
  "kernelspec": {
   "display_name": "Python 3",
   "language": "python",
   "name": "python3"
  },
  "language_info": {
   "codemirror_mode": {
    "name": "ipython",
    "version": 3
   },
   "file_extension": ".py",
   "mimetype": "text/x-python",
   "name": "python",
   "nbconvert_exporter": "python",
   "pygments_lexer": "ipython3",
   "version": "3.8.5"
  }
 },
 "nbformat": 4,
 "nbformat_minor": 4
}
